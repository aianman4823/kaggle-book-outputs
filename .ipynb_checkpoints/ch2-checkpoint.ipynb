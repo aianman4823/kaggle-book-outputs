{
 "cells": [
  {
   "cell_type": "code",
   "execution_count": 26,
   "id": "11d8628a",
   "metadata": {},
   "outputs": [],
   "source": [
    "from sklearn.metrics import mean_squared_error, mean_squared_log_error, mean_absolute_error, r2_score, confusion_matrix,accuracy_score\n",
    "import numpy as np"
   ]
  },
  {
   "cell_type": "code",
   "execution_count": 2,
   "id": "6ecbf106",
   "metadata": {},
   "outputs": [],
   "source": [
    "y_true = [1.0, 1.5, 2.0, 1.2, 1.8]\n",
    "y_pred = [0.8, 1.5, 1.8, 1.3, 3.0]"
   ]
  },
  {
   "cell_type": "code",
   "execution_count": 3,
   "id": "512b6c44",
   "metadata": {},
   "outputs": [
    {
     "name": "stdout",
     "output_type": "stream",
     "text": [
      "0.5531726674375732\n"
     ]
    }
   ],
   "source": [
    "# RMSE\n",
    "rmse = np.sqrt(mean_squared_error(y_true, y_pred)) \n",
    "print(rmse)"
   ]
  },
  {
   "cell_type": "code",
   "execution_count": 4,
   "id": "e4b5daf1",
   "metadata": {},
   "outputs": [
    {
     "data": {
      "text/plain": [
       "0.17032547044118188"
      ]
     },
     "execution_count": 4,
     "metadata": {},
     "output_type": "execute_result"
    }
   ],
   "source": [
    "# RMSLE\n",
    "rmsle = np.sqrt(mean_squared_log_error(y_true, y_pred))\n",
    "rmsle"
   ]
  },
  {
   "cell_type": "code",
   "execution_count": 5,
   "id": "4b0ee336",
   "metadata": {},
   "outputs": [
    {
     "data": {
      "text/plain": [
       "0.33999999999999997"
      ]
     },
     "execution_count": 5,
     "metadata": {},
     "output_type": "execute_result"
    }
   ],
   "source": [
    "# MAE\n",
    "mae = mean_absolute_error(y_true, y_pred)\n",
    "mae"
   ]
  },
  {
   "cell_type": "code",
   "execution_count": 11,
   "id": "c4e7a9f1",
   "metadata": {},
   "outputs": [
    {
     "data": {
      "text/plain": [
       "-1.2499999999999996"
      ]
     },
     "execution_count": 11,
     "metadata": {},
     "output_type": "execute_result"
    }
   ],
   "source": [
    "# 決定係数は最大で1\n",
    "r2 = r2_score(y_true, y_pred)\n",
    "r2"
   ]
  },
  {
   "cell_type": "code",
   "execution_count": 22,
   "id": "098d0cbd",
   "metadata": {},
   "outputs": [
    {
     "name": "stdout",
     "output_type": "stream",
     "text": [
      "[[3 1]\n",
      " [2 2]]\n",
      "[[2 1]\n",
      " [2 3]]\n"
     ]
    }
   ],
   "source": [
    "# 混合行列\n",
    "# 0, 1で表される二値分類の真の値と予測値\n",
    "y_true_b = [1, 0, 1, 1, 0, 1, 1, 0]\n",
    "y_pred_b = [0, 0, 1, 1, 0, 0, 1, 1]\n",
    "\n",
    "# andではなく&を使わないといけない。なぜならこれは0, 1の論理積だから。普通の論理演算ではない。\n",
    "tp = np.sum((np.array(y_true_b) == 1) & (np.array(y_pred_b) == 1))\n",
    "tn = np.sum((np.array(y_true_b) == 0) & (np.array(y_pred_b) == 0))\n",
    "fp = np.sum((np.array(y_true_b) == 0) & (np.array(y_pred_b) == 1))\n",
    "fn = np.sum((np.array(y_true_b) == 1) & (np.array(y_pred_b) == 0))\n",
    "# T正, F正\n",
    "# F負, T負\n",
    "confusion_matrix1 = np.array([[tp, fp],[fn, tn]])\n",
    "print(confusion_matrix1)\n",
    "\n",
    "# scikit-learnのmetricsモジュールのconfusion_matrixでも作成できるが、\n",
    "# 混合行列の要素の配置が違うので注意\n",
    "confusion_matrix2 = confusion_matrix(y_true_b, y_pred_b)\n",
    "# 　　負正\n",
    "# F\n",
    "# T\n",
    "print(confusion_matrix2)"
   ]
  },
  {
   "cell_type": "code",
   "execution_count": 19,
   "id": "8eaab9f4",
   "metadata": {},
   "outputs": [],
   "source": [
    "?confusion_matrix"
   ]
  },
  {
   "cell_type": "code",
   "execution_count": 25,
   "id": "77191ca3",
   "metadata": {},
   "outputs": [
    {
     "data": {
      "text/plain": [
       "0.625"
      ]
     },
     "execution_count": 25,
     "metadata": {},
     "output_type": "execute_result"
    }
   ],
   "source": [
    "# accuracyとerror rate\n",
    "# 上のバイナリの例を利用\n",
    "accuracy = np.sum(confusion_matrix2[1])/np.sum(confusion_matrix2)\n",
    "accuracy"
   ]
  },
  {
   "cell_type": "code",
   "execution_count": 29,
   "id": "cf5d3d6b",
   "metadata": {},
   "outputs": [
    {
     "name": "stdout",
     "output_type": "stream",
     "text": [
      "error rate:  0.375\n"
     ]
    },
    {
     "data": {
      "text/plain": [
       "0.625"
      ]
     },
     "execution_count": 29,
     "metadata": {},
     "output_type": "execute_result"
    }
   ],
   "source": [
    "# scikit-learn.matricsのaccuracy_scoreを利用した場合\n",
    "accuracy2 = accuracy_score(y_true_b, y_pred_b)\n",
    "print('error rate: ', 1 - accuracy2)\n",
    "accuracy2"
   ]
  },
  {
   "cell_type": "code",
   "execution_count": 30,
   "id": "280f8724",
   "metadata": {},
   "outputs": [],
   "source": [
    "# precision(適合率)とrecall(再現率)\n",
    "# from sklearn.metrics import precision_score, recall_score\n",
    "# precision = TP / (TP + FP)\n",
    "# recall = TP / (TP + FN)\n",
    "# これらは互いにトレードオフなので、同時に考慮する必要がある"
   ]
  },
  {
   "cell_type": "code",
   "execution_count": 34,
   "id": "ba705823",
   "metadata": {},
   "outputs": [
    {
     "name": "stdout",
     "output_type": "stream",
     "text": [
      "f値:  0.6666666666666665\n",
      "f2値:  0.625\n"
     ]
    }
   ],
   "source": [
    "# scikit-learnのmetricsモジュールのprecision_score, recall_scoreを用いてトレードオフを考慮した計算ができる\n",
    "# F1-scoreとFβ-score(precisionとrecallの調和平均で計算される指標)\n",
    "from sklearn.metrics import f1_score, fbeta_score\n",
    "print('f値: ',f1_score(y_true_b, y_pred_b))\n",
    "# βを2とする\n",
    "print('f2値: ',fbeta_score(y_true_b, y_pred_b, beta=2))"
   ]
  },
  {
   "cell_type": "code",
   "execution_count": 35,
   "id": "694c3248",
   "metadata": {},
   "outputs": [
    {
     "name": "stdout",
     "output_type": "stream",
     "text": [
      "MCC:  0.2581988897471611\n"
     ]
    }
   ],
   "source": [
    "# MCC(Matthews Correlation Coefficient)\n",
    "from sklearn.metrics import matthews_corrcoef\n",
    "print('MCC: ', matthews_corrcoef(y_true_b, y_pred_b))"
   ]
  },
  {
   "cell_type": "code",
   "execution_count": 37,
   "id": "c0818c6f",
   "metadata": {},
   "outputs": [],
   "source": [
    "?matthews_corrcoef"
   ]
  },
  {
   "cell_type": "code",
   "execution_count": 39,
   "id": "4cdc2196",
   "metadata": {},
   "outputs": [
    {
     "name": "stdout",
     "output_type": "stream",
     "text": [
      "0.7135581778200728\n"
     ]
    }
   ],
   "source": [
    "# 二値分類における評価指標(正例である確率を予測値とする場合)\n",
    "# logloss(cross-entropy)\n",
    "from sklearn.metrics import log_loss\n",
    "y_true_c = [1, 0, 1, 1, 0, 1]\n",
    "y_prob_c = [0.1, 0.2, 0.8, 0.8, 0.1, 0.3]\n",
    "logloss = log_loss(y_true_c, y_prob_c)\n",
    "print(logloss)"
   ]
  },
  {
   "cell_type": "code",
   "execution_count": 40,
   "id": "06721ce4",
   "metadata": {},
   "outputs": [
    {
     "data": {
      "text/plain": [
       "0.8125"
      ]
     },
     "execution_count": 40,
     "metadata": {},
     "output_type": "execute_result"
    }
   ],
   "source": [
    "# AUC\n",
    "# また、評価指標がGini係数の時はGini = 2 * AUC - 1で線形関係より、評価指標がAUCである時と大体同じ意味\n",
    "# scikit-learnのmetricsモジュールのroc_auc_scoreを使う\n",
    "from sklearn.metrics import roc_auc_score\n",
    "auc = roc_auc_score(y_true_c, y_prob_c)\n",
    "auc"
   ]
  },
  {
   "cell_type": "code",
   "execution_count": 41,
   "id": "66e1a466",
   "metadata": {},
   "outputs": [
    {
     "name": "stdout",
     "output_type": "stream",
     "text": [
      "0.5\n"
     ]
    }
   ],
   "source": [
    "# 多クラス分類における評価指標\n",
    "# multi-class accuracy\n",
    "y_true_m = [0, 1, 2, 1, 2, 0]\n",
    "y_pred_m = [0, 1, 2, 0, 1, 1]\n",
    "m_accuracy = accuracy_score(y_true_m, y_pred_m)\n",
    "\n",
    "print(m_accuracy)"
   ]
  },
  {
   "cell_type": "code",
   "execution_count": 42,
   "id": "033fe5b9",
   "metadata": {},
   "outputs": [
    {
     "name": "stdout",
     "output_type": "stream",
     "text": [
      "0.3625557672904274\n"
     ]
    }
   ],
   "source": [
    "# multi-class logloss\n",
    "y_true_m1 = np.array([0, 2, 1, 2, 2])\n",
    "y_pred_m1 = np.array([[0.68, 0.32, 0.00],\n",
    "                     [0.00, 0.00, 1.00],\n",
    "                     [0.60, 0.40, 0.00],\n",
    "                     [0.00, 0.00, 1.00],\n",
    "                     [0.28, 0.12, 0.60]])\n",
    "\n",
    "logloss_m1 = log_loss(y_true_m1, y_pred_m1)\n",
    "print(logloss_m1)"
   ]
  },
  {
   "cell_type": "code",
   "execution_count": 47,
   "id": "dd5dfce4",
   "metadata": {},
   "outputs": [
    {
     "name": "stdout",
     "output_type": "stream",
     "text": [
      "0.5933333333333334 0.5523809523809523 0.6250000000000001\n",
      "0.5933333333333334 0.5523809523809523 0.6250000000000001\n"
     ]
    }
   ],
   "source": [
    "# mean-F1とmacro-F1とmicro-F1\n",
    "# F1-scoreを多クラス分類に拡張したもの\n",
    "# マルチラベルの分類の真の値・予測値は、評価指標の計算上はレコード×クラスの二値の行列とした方が扱いやすい\n",
    "# 真の値 - [[1, 2], [1], [1, 2, 3], [2, 3], [3]]\n",
    "y_true_m2 = np.array([\n",
    "    [1, 1, 0],\n",
    "    [1, 0, 0],\n",
    "    [1, 1, 1],\n",
    "    [0, 1, 1],\n",
    "    [0, 0, 1],\n",
    "])\n",
    "# 予測値- [[1, 3], [2], [1, 3], [3], [3]]\n",
    "y_pred_m2 = np.array([\n",
    "    [1, 0, 1],\n",
    "    [0, 1, 0],\n",
    "    [1, 0, 1],\n",
    "    [0, 0, 1],\n",
    "    [0, 0, 1],\n",
    "])\n",
    "\n",
    "# mean-f1ではレコードごとにf1-scoreを計算して平均をとる\n",
    "mean_f1 = np.mean([f1_score(y_true_m2[i, :], y_pred_m2[i, :]) for i in range(len(y_true_m2))])\n",
    "\n",
    "# macro-f1ではクラスごとにF1-scoreを計算して平均をとる\n",
    "c_class = 3\n",
    "macro_f1 = np.mean([f1_score(y_true_m2[:, c], y_pred_m2[:, c]) for c in range(c_class)])\n",
    "\n",
    "# micro-f1ではレコード×クラスのペアごとにTP/TN/FNを計算し、F1-scoreを求める\n",
    "micro_f1 = f1_score(y_true_m2.reshape(-1), y_pred_m2.reshape(-1))\n",
    "\n",
    "print(mean_f1,  macro_f1, micro_f1)\n",
    "\n",
    "\n",
    "# scikit-learnのメソッドを使うことでも計算できる\n",
    "mean_f1_sk = f1_score(y_true_m2, y_pred_m2, average = 'samples')\n",
    "macro_f1_sk = f1_score(y_true_m2, y_pred_m2, average = 'macro')\n",
    "micro_f1_sk = f1_score(y_true_m2, y_pred_m2, average = 'micro')\n",
    "print(mean_f1_sk, macro_f1_sk, micro_f1_sk)"
   ]
  },
  {
   "cell_type": "code",
   "execution_count": null,
   "id": "206e9e64",
   "metadata": {},
   "outputs": [],
   "source": []
  }
 ],
 "metadata": {
  "kernelspec": {
   "display_name": "Python 3",
   "language": "python",
   "name": "python3"
  },
  "language_info": {
   "codemirror_mode": {
    "name": "ipython",
    "version": 3
   },
   "file_extension": ".py",
   "mimetype": "text/x-python",
   "name": "python",
   "nbconvert_exporter": "python",
   "pygments_lexer": "ipython3",
   "version": "3.8.5"
  }
 },
 "nbformat": 4,
 "nbformat_minor": 5
}
